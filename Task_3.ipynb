{
  "nbformat": 4,
  "nbformat_minor": 0,
  "metadata": {
    "colab": {
      "name": "Task 3.ipynb",
      "provenance": []
    },
    "kernelspec": {
      "name": "python3",
      "display_name": "Python 3"
    },
    "language_info": {
      "name": "python"
    },
    "accelerator": "GPU"
  },
  "cells": [
    {
      "cell_type": "code",
      "metadata": {
        "id": "kkShaeMfSOdY"
      },
      "source": [
        "#Imports\n",
        "import torch\n",
        "from torchtext.legacy import data\n",
        "import pandas as pd\n",
        "import re\n",
        "import string\n",
        "import random\n",
        "import os\n",
        "import torch.nn as nn\n"
      ],
      "execution_count": 142,
      "outputs": []
    },
    {
      "cell_type": "code",
      "metadata": {
        "colab": {
          "resources": {
            "http://localhost:8080/nbextensions/google.colab/files.js": {
              "data": "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",
              "ok": true,
              "headers": [
                [
                  "content-type",
                  "application/javascript"
                ]
              ],
              "status": 200,
              "status_text": ""
            }
          },
          "base_uri": "https://localhost:8080/",
          "height": 174
        },
        "id": "ctm-kGToSaeP",
        "outputId": "0651048a-1c08-4836-a57e-3eb51eaf92fb"
      },
      "source": [
        "#dataset upload\n",
        "from google.colab import files\n",
        "uploaded = files.upload()"
      ],
      "execution_count": 2,
      "outputs": [
        {
          "output_type": "display_data",
          "data": {
            "text/html": [
              "\n",
              "     <input type=\"file\" id=\"files-21468b09-d635-4afc-b068-7c84c3b63616\" name=\"files[]\" multiple disabled\n",
              "        style=\"border:none\" />\n",
              "     <output id=\"result-21468b09-d635-4afc-b068-7c84c3b63616\">\n",
              "      Upload widget is only available when the cell has been executed in the\n",
              "      current browser session. Please rerun this cell to enable.\n",
              "      </output>\n",
              "      <script src=\"/nbextensions/google.colab/files.js\"></script> "
            ],
            "text/plain": [
              "<IPython.core.display.HTML object>"
            ]
          },
          "metadata": {
            "tags": []
          }
        },
        {
          "output_type": "stream",
          "text": [
            "Saving banglastopword.txt to banglastopword.txt\n",
            "Saving bengali_hatespeech.csv to bengali_hatespeech.csv\n",
            "Saving hindi_hatespeech.tsv to hindi_hatespeech.tsv\n",
            "Saving stopword.txt to stopword.txt\n"
          ],
          "name": "stdout"
        }
      ]
    },
    {
      "cell_type": "markdown",
      "metadata": {
        "id": "jrBhkclESVPH"
      },
      "source": [
        "Hindi Dataset"
      ]
    },
    {
      "cell_type": "code",
      "metadata": {
        "id": "GdLa_5t1SuAt"
      },
      "source": [
        "# Read Hinid dataset and some preprocessing\n",
        "# Read Hindi Dataset\n",
        "hindi_data = pd.read_csv('hindi_hatespeech.tsv', sep='\\t')\n",
        "hindi_data = hindi_data.loc[:,\"text\":\"task_1\"]\n",
        "hindi_data.dropna(subset = [\"text\"], inplace=True)\n",
        "hindi_data.dropna(subset = [\"task_1\"], inplace=True)\n",
        "hindi_data['task_1'] = hindi_data['task_1'].map({'HOF': 1, 'NOT': 0})\n",
        "hindi_data['text'] = hindi_data['text'].str.replace('[{}]'.format(string.punctuation), ' ')\n",
        "hindi_data['text'] = hindi_data['text'].str.replace('[{}]'.format('।'), '')\n",
        "hindi_stop_word_list = pd.read_csv('stopword.txt', sep='\\s+', header=None)\n",
        "hindi_stop_word_list = hindi_stop_word_list[0].tolist()\n",
        "hindi_data['text'] = hindi_data['text'].apply(lambda x: ' '.join([item for item in x.split() if item not in (hindi_stop_word_list)]))\n",
        "hindi_training_data = hindi_data.sample(frac = 0.8)\n",
        "hindi_test_data = hindi_data.drop(hindi_training_data.index)\n",
        "# write a dataframe to tsv file\n",
        "hindi_training_data.to_csv(\"hindi_training_data.tsv\", sep=\"\\t\", index=False)\n",
        "# write a dataframe to tsv file\n",
        "hindi_test_data.to_csv(\"hindi_test_data.tsv\", sep=\"\\t\", index=False)"
      ],
      "execution_count": 143,
      "outputs": []
    },
    {
      "cell_type": "code",
      "metadata": {
        "colab": {
          "base_uri": "https://localhost:8080/"
        },
        "id": "FKHtK3HJiqx4",
        "outputId": "64abf9a5-29a7-46ee-ecba-a759f73f9ce1"
      },
      "source": [
        "len(hindi_data)"
      ],
      "execution_count": 141,
      "outputs": [
        {
          "output_type": "execute_result",
          "data": {
            "text/plain": [
              "4665"
            ]
          },
          "metadata": {
            "tags": []
          },
          "execution_count": 141
        }
      ]
    },
    {
      "cell_type": "code",
      "metadata": {
        "id": "29bfo5ZCS0k1"
      },
      "source": [
        "#Hindi Dataset Cleanup\n",
        "def hindi_data_cleanup(hindi_data):\n",
        "  cleaned_text = []\n",
        "  for text in hindi_data:\n",
        "      # remove multiple spaces\n",
        "      text = re.sub(r' +', ' ', text)\n",
        "      # remove newline\n",
        "      text = re.sub(r'\\n', ' ', text)\n",
        "      cleaned_text.append(text)\n",
        "  return cleaned_text"
      ],
      "execution_count": 144,
      "outputs": []
    },
    {
      "cell_type": "code",
      "metadata": {
        "id": "eXY0yPs2S3S4"
      },
      "source": [
        "#For Creating Train and Validation data\n",
        "char_based = False\n",
        "if char_based:\n",
        "    tokenizer = lambda s: list(s) # char-based\n",
        "else:\n",
        "    tokenizer = lambda s: s.split() # word-based\n",
        "\n",
        "Text = data.Field(preprocessing=hindi_data_cleanup, tokenize=tokenizer, batch_first=True, include_lengths=True, fix_length=100)\n",
        "Label = data.Field(sequential=False, use_vocab=False, pad_token=None, unk_token=None)\n",
        "\n",
        "fields = [('text', Text), ('labels', Label)]\n",
        "train_data_hindi, test_data_hindi = data.TabularDataset.splits(\n",
        "    path = \"/content\",\n",
        "    train = \"hindi_training_data.tsv\",\n",
        "    test = \"hindi_test_data.tsv\",\n",
        "    format='tsv',\n",
        "    fields=fields,\n",
        "    skip_header=True\n",
        ")\n",
        "\n",
        "seed = 42\n",
        "train_data_hindi, valid_data_hindi = train_data_hindi.split(split_ratio=0.8, random_state=random.seed(seed))"
      ],
      "execution_count": 145,
      "outputs": []
    },
    {
      "cell_type": "code",
      "metadata": {
        "id": "R8fP2pRmTCjN"
      },
      "source": [
        "def create_iterator(train_data, valid_data, test_data, batch_size, device):    \n",
        "  train_iterator, valid_iterator, test_iterator = data.BucketIterator.splits((train_data, valid_data, test_data),\n",
        "          batch_size = batch_size,\n",
        "          sort_key = lambda x: len(x.text), \n",
        "          sort_within_batch = True,\n",
        "          device = device)\n",
        "  return train_iterator, valid_iterator, test_iterator\n",
        "\n",
        "def accuracy(probs, target):\n",
        "  predictions = probs.argmax(dim=1)\n",
        "  corrects = (predictions == target)\n",
        "  accuracy = corrects.sum().float() / float(target.size(0))\n",
        "  return accuracy\n",
        "\n",
        "def train(model, iterator, optimizer, criterion):\n",
        "    epoch_loss = 0\n",
        "    epoch_acc = 0\n",
        "    for batch in iterator:\n",
        "        optimizer.zero_grad()\n",
        "        text, text_lengths = batch.text\n",
        "        text, text_lengths = text.to(device), text_lengths.to(device)\n",
        "        predictions = model(text, text_lengths)\n",
        "        loss = criterion(predictions, batch.labels.squeeze())\n",
        "        acc = accuracy(predictions, batch.labels)        \n",
        "        loss.backward()\n",
        "        optimizer.step()\n",
        "        epoch_loss += loss.item()\n",
        "        epoch_acc += acc.item()\n",
        "    return epoch_loss / len(iterator), epoch_acc / len(iterator)\n",
        "\n",
        "def evaluate(model, iterator, criterion):\n",
        "    epoch_loss = 0\n",
        "    epoch_acc = 0\n",
        "    model.eval()\n",
        "    with torch.no_grad():\n",
        "        for batch in iterator:\n",
        "            text, text_lengths = batch.text\n",
        "            predictions = model(text, text_lengths).squeeze(1)\n",
        "            loss = criterion(predictions, batch.labels)\n",
        "            acc = accuracy(predictions, batch.labels)\n",
        "            epoch_loss += loss.item()\n",
        "            epoch_acc += acc.item()\n",
        "    return epoch_loss / len(iterator), epoch_acc / len(iterator)\n",
        "\n",
        "def run_train(epochs, model, train_iterator, valid_iterator, optimizer, criterion, model_type):\n",
        "    best_valid_loss = float('inf')\n",
        "\n",
        "    for epoch in range(epochs):\n",
        "\n",
        "        # train the model\n",
        "        train_loss, train_acc = train(model, train_iterator, optimizer, criterion)\n",
        "\n",
        "        # evaluate the model\n",
        "        valid_loss, valid_acc = evaluate(model, valid_iterator, criterion)\n",
        "\n",
        "        # save the best model\n",
        "        if valid_loss < best_valid_loss:\n",
        "            best_valid_loss = valid_loss\n",
        "            torch.save(model.state_dict(), 'saved_weights'+'_'+model_type+'.pt')\n",
        "\n",
        "        print(f'Epoch: {epoch+1} | Train Loss: {train_loss:.3f} | Train Acc: {train_acc * 100:.2f}%')\n",
        "        print(f'Epoch: {epoch+1} | Val. Loss: {valid_loss:.3f} |  Val. Acc: {valid_acc * 100:.2f}%')"
      ],
      "execution_count": 146,
      "outputs": []
    },
    {
      "cell_type": "code",
      "metadata": {
        "id": "MXV0WIShTG8l"
      },
      "source": [
        "# Hyperparameters\n",
        "lr = 1e-4\n",
        "batch_size = 50\n",
        "dropout_keep_prob = 0.5\n",
        "embedding_size = 300\n",
        "max_document_length = 100  # each sentence has until 100 words\n",
        "dev_size = 0.8 # split percentage to train\\validation data\n",
        "max_size = 5000 # maximum vocabulary size\n",
        "seed = 1\n",
        "num_classes = 2\n",
        "num_hidden_nodes = 93\n",
        "hidden_dim2 = 128\n",
        "num_layers = 2  # LSTM layers\n",
        "bi_directional = False \n",
        "num_epochs = 7\n",
        "num_hidden_nodes = 93"
      ],
      "execution_count": 147,
      "outputs": []
    },
    {
      "cell_type": "code",
      "metadata": {
        "id": "T8Ci2UxFUM86"
      },
      "source": [
        "import torch\n",
        "import torch.nn as nn\n",
        "from torch.nn.utils.rnn import pack_padded_sequence, pad_packed_sequence\n",
        "\n",
        "class LSTM(nn.Module):\n",
        "    def __init__(self, vocab_size, embedding_dim, hidden_dim1, hidden_dim2, output_dim, n_layers,\n",
        "                 bidirectional, dropout, pad_index):\n",
        "        super().__init__()\n",
        "        self.embedding = nn.Embedding(vocab_size, embedding_dim, padding_idx = pad_index)\n",
        "        self.lstm = nn.LSTM(embedding_dim,\n",
        "                            hidden_dim1,\n",
        "                            num_layers=n_layers,\n",
        "                            bidirectional=bidirectional,\n",
        "                            batch_first=True)\n",
        "        self.fc1 = nn.Linear(hidden_dim1 * 2, hidden_dim2)\n",
        "        self.fc2 = nn.Linear(hidden_dim2, output_dim)\n",
        "        self.relu = nn.ReLU()\n",
        "        self.dropout = nn.Dropout(dropout)\n",
        "\n",
        "    def forward(self, text, text_lengths):\n",
        "        embedded = self.embedding(text)\n",
        "        packed_embedded = pack_padded_sequence(embedded, text_lengths.cpu(), batch_first=True) \n",
        "\n",
        "        packed_output, (hidden, cell) = self.lstm(packed_embedded)\n",
        "        cat = torch.cat((hidden[-2, :, :], hidden[-1, :, :]), dim=1)\n",
        "        rel = self.relu(cat)\n",
        "        dense1 = self.fc1(rel)\n",
        "        drop = self.dropout(dense1)\n",
        "        preds = self.fc2(drop)\n",
        "        return preds"
      ],
      "execution_count": 148,
      "outputs": []
    },
    {
      "cell_type": "code",
      "metadata": {
        "colab": {
          "base_uri": "https://localhost:8080/"
        },
        "id": "aT0uZEPXTdUO",
        "outputId": "28d1d4b2-641d-4f2e-c57c-3a4225e3841f"
      },
      "source": [
        "# Main Function\n",
        "\n",
        "if __name__ == \"__main__\":\n",
        "  device = torch.device('cuda' if torch.cuda.is_available() else 'cpu') \n",
        "  path = '/content'\n",
        "  path_data = os.path.join(path, \"data\")\n",
        "  # parameters\n",
        "  model_type = \"LSTM\"\n",
        "  data_type = \"token\" # or: \"morph\"\n",
        "\n",
        "  char_based = True\n",
        "  if char_based:\n",
        "      tokenizer = lambda s: list(s) # char-based\n",
        "  else:\n",
        "      tokenizer = lambda s: s.split() # word-based\n",
        "\n",
        "  Text.build_vocab(train_data_hindi, max_size=max_size)\n",
        "  Label.build_vocab(train_data_hindi)\n",
        "  vocab_size = len(Text.vocab)\n",
        "  to_train = True\n",
        "  pad_index = Text.vocab.stoi[Text.pad_token]\n",
        "  # pad_index = pad_index.type(torch.int64)\n",
        "\n",
        "\n",
        "  train_iterator, valid_iterator, test_iterator = create_iterator(train_data_hindi, valid_data_hindi, test_data_hindi, batch_size, device)\n",
        "\n",
        "  # loss function\n",
        "  loss_func = nn.CrossEntropyLoss()\n",
        "  loss_func = loss_func.to(device)\n",
        "  lstm_model = LSTM(vocab_size, embedding_size, num_hidden_nodes, hidden_dim2 , num_classes, num_layers, bi_directional, dropout_keep_prob, pad_index)\n",
        "  if torch.cuda.is_available():\n",
        "    lstm_model.cuda()\n",
        "\n",
        "  # optimization algorithm\n",
        "  optimizer = torch.optim.Adam(lstm_model.parameters(), lr=lr)\n",
        "  # train and evaluation\n",
        "  # if (to_train):\n",
        "  #     # train and evaluation\n",
        "  torch.backends.cudnn.enabled = False\n",
        "  run_train(num_epochs, lstm_model, train_iterator, valid_iterator, optimizer, loss_func, model_type)\n",
        "\n",
        "  # load weights\n",
        "  # lstm_model.load_state_dict(torch.load(os.path.join(path, \"saved_weights_LSTM.pt\")))\n",
        "  # predict\n",
        "  test_loss, test_acc = evaluate(lstm_model, test_iterator, loss_func)\n",
        "  print(f'Test Loss: {test_loss:.3f} | Test Acc: {test_acc * 100:.2f}%')"
      ],
      "execution_count": 149,
      "outputs": [
        {
          "output_type": "stream",
          "text": [
            "Epoch: 1 | Train Loss: 0.694 | Train Acc: 48.83%\n",
            "Epoch: 1 | Val. Loss: 0.687 |  Val. Acc: 58.18%\n",
            "Epoch: 2 | Train Loss: 0.685 | Train Acc: 57.92%\n",
            "Epoch: 2 | Val. Loss: 0.679 |  Val. Acc: 61.62%\n",
            "Epoch: 3 | Train Loss: 0.674 | Train Acc: 63.41%\n",
            "Epoch: 3 | Val. Loss: 0.662 |  Val. Acc: 64.19%\n",
            "Epoch: 4 | Train Loss: 0.651 | Train Acc: 64.46%\n",
            "Epoch: 4 | Val. Loss: 0.628 |  Val. Acc: 68.50%\n",
            "Epoch: 5 | Train Loss: 0.585 | Train Acc: 71.43%\n",
            "Epoch: 5 | Val. Loss: 0.525 |  Val. Acc: 74.52%\n",
            "Epoch: 6 | Train Loss: 0.493 | Train Acc: 76.83%\n",
            "Epoch: 6 | Val. Loss: 0.482 |  Val. Acc: 76.09%\n",
            "Epoch: 7 | Train Loss: 0.417 | Train Acc: 81.68%\n",
            "Epoch: 7 | Val. Loss: 0.480 |  Val. Acc: 77.72%\n",
            "Test Loss: 0.553 | Test Acc: 74.93%\n"
          ],
          "name": "stdout"
        }
      ]
    },
    {
      "cell_type": "markdown",
      "metadata": {
        "id": "gU6o1Mw6UhKe"
      },
      "source": [
        "Bangla Dataset"
      ]
    },
    {
      "cell_type": "code",
      "metadata": {
        "colab": {
          "base_uri": "https://localhost:8080/"
        },
        "id": "ZwtoHKHOUfu8",
        "outputId": "5285e51d-0204-4d7a-8447-4af3ece12566"
      },
      "source": [
        "# Read Bangla Dataset\n",
        "bengali_data = pd.read_csv('bengali_hatespeech.csv', sep=',')\n",
        "bengali_data = bengali_data.loc[:,\"sentence\":\"hate\"]\n",
        "bengali_data['sentence'] = bengali_data['sentence'].str.replace('[{}]'.format(string.punctuation), ' ')\n",
        "bengali_data['sentence'] = bengali_data['sentence'].str.replace('[{}]'.format('।'), '')\n",
        "bengali_stop_word_list = pd.read_csv('banglastopword.txt', sep='\\s+', header=None)\n",
        "bengali_stop_word_list = bengali_stop_word_list[0].tolist()\n",
        "bengali_data['sentence'] = bengali_data['sentence'].apply(lambda x: ' '.join([item for item in x.split() if item not in (bengali_stop_word_list)]))\n",
        "bengali_data = bengali_data[bengali_data.sentence != \"\"]\n",
        "bengali_data.dropna(subset = [\"sentence\"], inplace=True)\n",
        "bengali_data.dropna(subset = [\"hate\"], inplace=True)\n",
        "bengali_training_data = bengali_data.sample(frac = 0.8)\n",
        "bengali_test_data = bengali_data.drop(bengali_training_data.index)\n",
        "# write a dataframe to tsv file\n",
        "bengali_training_data.to_csv(\"bengali_training_data.tsv\", sep=\"\\t\", index=False)\n",
        "# write a dataframe to tsv file\n",
        "bengali_test_data.to_csv(\"bengali_test_data.tsv\", sep=\"\\t\", index=False)\n",
        "# len(bengali_data)"
      ],
      "execution_count": 150,
      "outputs": [
        {
          "output_type": "execute_result",
          "data": {
            "text/plain": [
              "29944"
            ]
          },
          "metadata": {
            "tags": []
          },
          "execution_count": 150
        }
      ]
    },
    {
      "cell_type": "code",
      "metadata": {
        "id": "02bYb1o9iyS_"
      },
      "source": [
        "bengali_data = bengali_data.sample(n=len(hindi_data))"
      ],
      "execution_count": 151,
      "outputs": []
    },
    {
      "cell_type": "code",
      "metadata": {
        "id": "yUqjiKeuflgj"
      },
      "source": [
        "bengali_data"
      ],
      "execution_count": null,
      "outputs": []
    },
    {
      "cell_type": "code",
      "metadata": {
        "id": "7wsrxox-V8-Y"
      },
      "source": [
        "#Bengali Dataset Cleanup\n",
        "def bengali_data_cleanup(bengali_data):\n",
        "  cleaned_text = []\n",
        "  for text in bengali_data:\n",
        "      # remove multiple spaces\n",
        "      text = re.sub(r' +', ' ', text)\n",
        "      # remove newline\n",
        "      text = re.sub(r'\\n', ' ', text)\n",
        "      cleaned_text.append(text)\n",
        "  return cleaned_text"
      ],
      "execution_count": 153,
      "outputs": []
    },
    {
      "cell_type": "code",
      "metadata": {
        "id": "OdcSu6I3XCvD"
      },
      "source": [
        "Text = data.Field(preprocessing=bengali_data_cleanup, tokenize=tokenizer, batch_first=True, include_lengths=True, fix_length=100)\n",
        "Label = data.Field(sequential=False, use_vocab=False, pad_token=None, unk_token=None)\n",
        "\n",
        "fields = [('text', Text), ('labels', Label)]\n",
        "train_data_bengali, test_data_bengali = data.TabularDataset.splits(\n",
        "    path = \"/content\",\n",
        "    train = \"bengali_training_data.tsv\",\n",
        "    test = \"bengali_test_data.tsv\",\n",
        "    format='tsv',\n",
        "    fields=fields,\n",
        "    skip_header=True\n",
        ")\n",
        "\n",
        "seed = 42\n",
        "train_data_bengali, valid_data_bengali = train_data_bengali.split(split_ratio=0.8, random_state=random.seed(seed))"
      ],
      "execution_count": 154,
      "outputs": []
    },
    {
      "cell_type": "code",
      "metadata": {
        "colab": {
          "base_uri": "https://localhost:8080/"
        },
        "id": "VSkD6HjBXfH3",
        "outputId": "04cac1e4-74cf-4398-a67b-e500267c065d"
      },
      "source": [
        "# Main Function\n",
        "\n",
        "if __name__ == \"__main__\":\n",
        "  device = torch.device('cuda' if torch.cuda.is_available() else 'cpu') \n",
        "  path = '/content'\n",
        "  path_data = os.path.join(path, \"data\")\n",
        "  # parameters\n",
        "  model_type = \"LSTM\"\n",
        "  data_type = \"token\" # or: \"morph\"\n",
        "\n",
        "  char_based = True\n",
        "  if char_based:\n",
        "      tokenizer = lambda s: list(s) # char-based\n",
        "  else:\n",
        "      tokenizer = lambda s: s.split() # word-based\n",
        "\n",
        "  Text.build_vocab(train_data_bengali, max_size=max_size)\n",
        "  Label.build_vocab(train_data_bengali)\n",
        "  vocab_size = len(Text.vocab)\n",
        "  to_train = True\n",
        "  pad_index = Text.vocab.stoi[Text.pad_token]\n",
        "  # pad_index = pad_index.type(torch.int64)\n",
        "\n",
        "\n",
        "  train_iterator, valid_iterator, test_iterator = create_iterator(train_data_bengali, valid_data_bengali, test_data_bengali, batch_size, device)\n",
        "\n",
        "  # loss function\n",
        "  loss_func = nn.CrossEntropyLoss()\n",
        "  loss_func = loss_func.to(device)\n",
        "  lstm_model = LSTM(vocab_size, embedding_size, num_hidden_nodes, hidden_dim2 , num_classes, num_layers, bi_directional, dropout_keep_prob, pad_index)\n",
        "  if torch.cuda.is_available():\n",
        "    lstm_model.cuda()\n",
        "\n",
        "  # optimization algorithm\n",
        "  optimizer = torch.optim.Adam(lstm_model.parameters(), lr=lr)\n",
        "  # train and evaluation\n",
        "  # if (to_train):\n",
        "  #     # train and evaluation\n",
        "  torch.backends.cudnn.enabled = False\n",
        "  run_train(num_epochs, lstm_model, train_iterator, valid_iterator, optimizer, loss_func, model_type)\n",
        "\n",
        "  # load weights\n",
        "  lstm_model.load_state_dict(torch.load(os.path.join(path, \"saved_weights_LSTM.pt\")))\n",
        "  # predict\n",
        "  test_loss, test_acc = evaluate(lstm_model, test_iterator, loss_func)\n",
        "  print(f'Test Loss: {test_loss:.3f} | Test Acc: {test_acc * 100:.2f}%')"
      ],
      "execution_count": 155,
      "outputs": [
        {
          "output_type": "stream",
          "text": [
            "Epoch: 1 | Train Loss: 0.622 | Train Acc: 67.31%\n",
            "Epoch: 1 | Val. Loss: 0.566 |  Val. Acc: 72.01%\n",
            "Epoch: 2 | Train Loss: 0.512 | Train Acc: 75.27%\n",
            "Epoch: 2 | Val. Loss: 0.469 |  Val. Acc: 79.91%\n",
            "Epoch: 3 | Train Loss: 0.438 | Train Acc: 81.57%\n",
            "Epoch: 3 | Val. Loss: 0.429 |  Val. Acc: 82.15%\n",
            "Epoch: 4 | Train Loss: 0.405 | Train Acc: 83.45%\n",
            "Epoch: 4 | Val. Loss: 0.392 |  Val. Acc: 83.46%\n",
            "Epoch: 5 | Train Loss: 0.390 | Train Acc: 84.33%\n",
            "Epoch: 5 | Val. Loss: 0.374 |  Val. Acc: 85.05%\n",
            "Epoch: 6 | Train Loss: 0.383 | Train Acc: 84.87%\n",
            "Epoch: 6 | Val. Loss: 0.375 |  Val. Acc: 85.13%\n",
            "Epoch: 7 | Train Loss: 0.438 | Train Acc: 80.17%\n",
            "Epoch: 7 | Val. Loss: 0.447 |  Val. Acc: 77.04%\n",
            "Test Loss: 0.378 | Test Acc: 85.25%\n"
          ],
          "name": "stdout"
        }
      ]
    }
  ]
}